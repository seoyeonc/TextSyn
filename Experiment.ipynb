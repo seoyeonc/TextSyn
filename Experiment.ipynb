{
 "cells": [
  {
   "cell_type": "markdown",
   "id": "66a39afc-7a2d-444b-8aa2-807450cf7198",
   "metadata": {},
   "source": [
    "## Imports "
   ]
  },
  {
   "cell_type": "code",
   "execution_count": 2,
   "id": "bf7792a1-3303-4757-bb5e-135ba4de9ed1",
   "metadata": {
    "tags": []
   },
   "outputs": [],
   "source": [
    "import pandas as pd\n",
    "from autogluon.tabular import TabularPredictor\n",
    "import time\n",
    "import pickle\n",
    "import warnings\n",
    "warnings.filterwarnings('ignore')"
   ]
  },
  {
   "cell_type": "code",
   "execution_count": 3,
   "id": "98d4b921-60fc-453d-a529-9ce6d55397ca",
   "metadata": {
    "tags": []
   },
   "outputs": [],
   "source": [
    "def report(predictor,df_test):\n",
    "    model_names = [\n",
    "        'KNeighborsUnif',\n",
    "        'KNeighborsDist',\n",
    "        'NeuralNetFastAI',\n",
    "        'LightGBMXT',\n",
    "        'LightGBM',\n",
    "        'RandomForestGini',\n",
    "        'RandomForestEntr',\n",
    "        'CatBoost',\n",
    "        'ExtraTreesGini',\n",
    "        'ExtraTreesEntr',\n",
    "        'XGBoost',\n",
    "        'NeuralNetTorch',\n",
    "        'LightGBMLarge',\n",
    "        'WeightedEnsemble_L2'\n",
    "    ]\n",
    "    labels = ['ENTP', 'ESFP', 'ISFJ', 'INTJ', 'ISFP', 'ESTP', 'INTP', 'INFJ', 'ESTJ', 'ENFP', 'ISTJ', 'ENTJ', 'INFP', 'ISTP', 'ESFJ', 'ENFJ']\n",
    "    df_report = pd.concat({model_name:pd.DataFrame({label:{'PRE':0.0,'REC':0.0,'F1':0.0,'AUC':0.0} for label in labels}) for model_name in model_names})\n",
    "    yhats_dct = {model_name:predictor.predict_proba(df_test,model=model_name) for model_name in model_names}    \n",
    "    y = df_test['type']\n",
    "    for model_name in model_names:\n",
    "        yhat = yhats_dct[model_name].idxmax(axis=1)    \n",
    "        for label in labels:\n",
    "            if label in set(y):\n",
    "                _y = (y == label)*1\n",
    "                _y_pred = (yhat == label)*1\n",
    "                _y_proba = yhats_dct[model_name][label]\n",
    "                df_report[label][model_name]['PRE'] = sklearn.metrics.precision_score(_y,_y_pred)\n",
    "                df_report[label][model_name]['REC'] = sklearn.metrics.recall_score(_y,_y_pred)\n",
    "                df_report[label][model_name]['F1'] = sklearn.metrics.f1_score(_y,_y_pred)\n",
    "                df_report[label][model_name]['AUC'] = sklearn.metrics.roc_auc_score(_y,_y_proba)\n",
    "            else:\n",
    "                pass \n",
    "    return df_report"
   ]
  },
  {
   "cell_type": "code",
   "execution_count": 4,
   "id": "9f594db3-bc6e-4d0d-afed-110862075797",
   "metadata": {
    "tags": []
   },
   "outputs": [],
   "source": [
    "def fit_predict_save(path,experiments_index):\n",
    "    t1 = time.time()\n",
    "    df_train = df_trains_dct[experiments_index]\n",
    "    df_test = df_tests_dct[experiments_index]\n",
    "    predictor = TabularPredictor(label='type', eval_metric='acc', path=f\"AutogluonModels/{experiments_index}\",verbosity=False)\n",
    "    predictor.fit(\n",
    "        df_train,\n",
    "        hyperparameters = {\n",
    "            'NN_TORCH': {},\n",
    "            'GBM': [{'extra_trees': True, 'ag_args': {'name_suffix': 'XT'}}, {}, 'GBMLarge'],\n",
    "            'CAT': {},\n",
    "            'XGB': {},\n",
    "            'FASTAI': {},\n",
    "            'RF': [{'criterion': 'gini', 'ag_args': {'name_suffix': 'Gini', 'problem_types': ['binary', 'multiclass']}}, {'criterion': 'entropy', 'ag_args': {'name_suffix': 'Entr', 'problem_types': ['binary', 'multiclass']}}, {'criterion': 'squared_error', 'ag_args': {'name_suffix': 'MSE', 'problem_types': ['regression', 'quantile']}}],\t'XT': [{'criterion': 'gini', 'ag_args': {'name_suffix': 'Gini', 'problem_types': ['binary', 'multiclass']}}, {'criterion': 'entropy', 'ag_args': {'name_suffix': 'Entr', 'problem_types': ['binary', 'multiclass']}}, {'criterion': 'squared_error', 'ag_args': {'name_suffix': 'MSE', 'problem_types': ['regression', 'quantile']}}],\n",
    "            'KNN': [{'weights': 'uniform', 'ag_args': {'name_suffix': 'Unif'}}, {'weights': 'distance', 'ag_args': {'name_suffix': 'Dist'}}],\n",
    "        },\n",
    "    )\n",
    "    df_report = report(predictor,df_test)\n",
    "    df_report.to_csv(f\"{path}{experiments_index}.csv\")\n",
    "    t2 = time.time()\n",
    "    print(f\"{experiments_index} -- completed (time = {(t2-t1)/60:.4f} min)\")"
   ]
  },
  {
   "cell_type": "markdown",
   "id": "d63950bc-efd2-4940-93aa-bca9a82ecf83",
   "metadata": {},
   "source": [
    "### Data "
   ]
  },
  {
   "cell_type": "code",
   "execution_count": 5,
   "id": "9d12d157-6cc8-4fda-920c-f35ad3af2761",
   "metadata": {
    "tags": []
   },
   "outputs": [],
   "source": [
    "with open('experiment_setup/df_trains_dct.pickle', 'rb') as f:    \n",
    "    df_trains_dct = pickle.load(f)\n",
    "with open('experiment_setup/df_tests_dct.pickle', 'rb') as f:    \n",
    "    df_tests_dct = pickle.load(f)    "
   ]
  },
  {
   "cell_type": "markdown",
   "id": "32465a25-bbd0-4668-acff-ce34bc9860fc",
   "metadata": {},
   "source": [
    "### Experiment"
   ]
  },
  {
   "cell_type": "markdown",
   "id": "14f2518f-0e2f-4508-8171-4b88c9e8c80f",
   "metadata": {},
   "source": [
    "*Experiment1*"
   ]
  },
  {
   "cell_type": "code",
   "execution_count": 13,
   "id": "8fe9f8f7-318e-40d2-aa6a-ba01b1789631",
   "metadata": {
    "tags": []
   },
   "outputs": [],
   "source": [
    "![ -d \"results/experiment1\" ] || mkdir \"results/experiment1\"\n",
    "fit_predict_save(path='results/',experiments_index='experiment1/scenario1')\n",
    "fit_predict_save(path='results/',experiments_index='experiment1/scenario2')"
   ]
  },
  {
   "cell_type": "markdown",
   "id": "690ca5d6-95d8-44da-8c39-fbc1ccc9296b",
   "metadata": {},
   "source": [
    "*Experiment2*"
   ]
  },
  {
   "cell_type": "code",
   "execution_count": null,
   "id": "de74135c-9d63-4ff0-bdaf-ea401726232f",
   "metadata": {},
   "outputs": [],
   "source": [
    "![ -d \"results/experiment2\" ] || mkdir \"experiment_setup/experiment2\"\n",
    "fit_predict_save('results/','experiment2/scenario0a')\n",
    "fit_predict_save('results/','experiment2/scenario1a')\n",
    "fit_predict_save('results/','experiment2/scenario1b')\n",
    "fit_predict_save('results/','experiment2/scenario1c')\n",
    "fit_predict_save('results/','experiment2/scenario2a')\n",
    "fit_predict_save('results/','experiment2/scenario2b')\n",
    "fit_predict_save('results/','experiment2/scenario2c')\n",
    "fit_predict_save('results/','experiment2/scenario3a')\n",
    "fit_predict_save('results/','experiment2/scenario3b')\n",
    "fit_predict_save('results/','experiment2/scenario3c')\n",
    "fit_predict_save('results/','experiment2/scenario4a')\n",
    "fit_predict_save('results/','experiment2/scenario4b')\n",
    "fit_predict_save('results/','experiment2/scenario4c')"
   ]
  },
  {
   "cell_type": "markdown",
   "id": "7ce6b4ea-657e-411f-a188-2dbbe9b03dd5",
   "metadata": {},
   "source": [
    "*Experiment3*"
   ]
  },
  {
   "cell_type": "code",
   "execution_count": null,
   "id": "05163dea-8134-4e84-81df-6504dcfcac1b",
   "metadata": {},
   "outputs": [],
   "source": [
    "![ -d \"results/experiment3\" ] || mkdir \"results/experiment3\"\n",
    "fit_predict_save('results/','experiment3/scenario0a')\n",
    "fit_predict_save('results/','experiment3/scenario1a')\n",
    "fit_predict_save('results/','experiment3/scenario1b')\n",
    "fit_predict_save('results/','experiment3/scenario2a')\n",
    "fit_predict_save('results/','experiment3/scenario2b')\n",
    "fit_predict_save('results/','experiment3/scenario3a')\n",
    "fit_predict_save('results/','experiment3/scenario3b')\n",
    "fit_predict_save('results/','experiment3/scenario4a')\n",
    "fit_predict_save('results/','experiment3/scenario4b')\n",
    "fit_predict_save('results/','experiment3/scenario5a')\n",
    "fit_predict_save('results/','experiment3/scenario5b')\n",
    "fit_predict_save('results/','experiment3/scenario6a')\n",
    "fit_predict_save('results/','experiment3/scenario6b')\n",
    "fit_predict_save('results/','experiment3/scenario7a')\n",
    "fit_predict_save('results/','experiment3/scenario7b')"
   ]
  }
 ],
 "metadata": {
  "kernelspec": {
   "display_name": "mbti",
   "language": "python",
   "name": "python3"
  },
  "language_info": {
   "codemirror_mode": {
    "name": "ipython",
    "version": 3
   },
   "file_extension": ".py",
   "mimetype": "text/x-python",
   "name": "python",
   "nbconvert_exporter": "python",
   "pygments_lexer": "ipython3",
   "version": "3.10.13"
  }
 },
 "nbformat": 4,
 "nbformat_minor": 5
}
